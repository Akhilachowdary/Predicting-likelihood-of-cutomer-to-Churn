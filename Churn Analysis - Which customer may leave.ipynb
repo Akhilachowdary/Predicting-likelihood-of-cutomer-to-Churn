{
 "cells": [
  {
   "cell_type": "markdown",
   "metadata": {},
   "source": [
    "## Importing Libraries"
   ]
  },
  {
   "cell_type": "code",
   "execution_count": 1,
   "metadata": {},
   "outputs": [],
   "source": [
    "import pandas as pd\n",
    "import numpy as np\n",
    "import matplotlib.pyplot as plt\n",
    "import seaborn as sns"
   ]
  },
  {
   "cell_type": "markdown",
   "metadata": {},
   "source": [
    "# Reading Data"
   ]
  },
  {
   "cell_type": "code",
   "execution_count": 2,
   "metadata": {},
   "outputs": [],
   "source": [
    "df = pd.read_csv('WA_Fn-UseC_-Telco-Customer-Churn.csv')"
   ]
  },
  {
   "cell_type": "markdown",
   "metadata": {},
   "source": [
    "# Exploring Data"
   ]
  },
  {
   "cell_type": "code",
   "execution_count": 3,
   "metadata": {},
   "outputs": [
    {
     "data": {
      "text/plain": [
       "7043"
      ]
     },
     "execution_count": 3,
     "metadata": {},
     "output_type": "execute_result"
    }
   ],
   "source": [
    "len(df)"
   ]
  },
  {
   "cell_type": "code",
   "execution_count": 4,
   "metadata": {},
   "outputs": [
    {
     "data": {
      "text/plain": [
       "customerID          0\n",
       "gender              0\n",
       "SeniorCitizen       0\n",
       "Partner             0\n",
       "Dependents          0\n",
       "tenure              0\n",
       "PhoneService        0\n",
       "MultipleLines       0\n",
       "InternetService     0\n",
       "OnlineSecurity      0\n",
       "OnlineBackup        0\n",
       "DeviceProtection    0\n",
       "TechSupport         0\n",
       "StreamingTV         0\n",
       "StreamingMovies     0\n",
       "Contract            0\n",
       "PaperlessBilling    0\n",
       "PaymentMethod       0\n",
       "MonthlyCharges      0\n",
       "TotalCharges        0\n",
       "Churn               0\n",
       "dtype: int64"
      ]
     },
     "execution_count": 4,
     "metadata": {},
     "output_type": "execute_result"
    }
   ],
   "source": [
    "df.isnull().sum()"
   ]
  },
  {
   "cell_type": "code",
   "execution_count": 5,
   "metadata": {},
   "outputs": [
    {
     "data": {
      "text/plain": [
       "Index(['customerID', 'gender', 'SeniorCitizen', 'Partner', 'Dependents',\n",
       "       'tenure', 'PhoneService', 'MultipleLines', 'InternetService',\n",
       "       'OnlineSecurity', 'OnlineBackup', 'DeviceProtection', 'TechSupport',\n",
       "       'StreamingTV', 'StreamingMovies', 'Contract', 'PaperlessBilling',\n",
       "       'PaymentMethod', 'MonthlyCharges', 'TotalCharges', 'Churn'],\n",
       "      dtype='object')"
      ]
     },
     "execution_count": 5,
     "metadata": {},
     "output_type": "execute_result"
    }
   ],
   "source": [
    "##cutomer ID doesnot depend on leaving\n",
    "df.columns"
   ]
  },
  {
   "cell_type": "code",
   "execution_count": 6,
   "metadata": {},
   "outputs": [
    {
     "data": {
      "text/html": [
       "<div>\n",
       "<style scoped>\n",
       "    .dataframe tbody tr th:only-of-type {\n",
       "        vertical-align: middle;\n",
       "    }\n",
       "\n",
       "    .dataframe tbody tr th {\n",
       "        vertical-align: top;\n",
       "    }\n",
       "\n",
       "    .dataframe thead th {\n",
       "        text-align: right;\n",
       "    }\n",
       "</style>\n",
       "<table border=\"1\" class=\"dataframe\">\n",
       "  <thead>\n",
       "    <tr style=\"text-align: right;\">\n",
       "      <th></th>\n",
       "      <th>customerID</th>\n",
       "      <th>gender</th>\n",
       "      <th>SeniorCitizen</th>\n",
       "      <th>Partner</th>\n",
       "      <th>Dependents</th>\n",
       "      <th>tenure</th>\n",
       "      <th>PhoneService</th>\n",
       "      <th>MultipleLines</th>\n",
       "      <th>InternetService</th>\n",
       "      <th>OnlineSecurity</th>\n",
       "      <th>...</th>\n",
       "      <th>DeviceProtection</th>\n",
       "      <th>TechSupport</th>\n",
       "      <th>StreamingTV</th>\n",
       "      <th>StreamingMovies</th>\n",
       "      <th>Contract</th>\n",
       "      <th>PaperlessBilling</th>\n",
       "      <th>PaymentMethod</th>\n",
       "      <th>MonthlyCharges</th>\n",
       "      <th>TotalCharges</th>\n",
       "      <th>Churn</th>\n",
       "    </tr>\n",
       "  </thead>\n",
       "  <tbody>\n",
       "    <tr>\n",
       "      <th>0</th>\n",
       "      <td>7590-VHVEG</td>\n",
       "      <td>Female</td>\n",
       "      <td>0</td>\n",
       "      <td>Yes</td>\n",
       "      <td>No</td>\n",
       "      <td>1</td>\n",
       "      <td>No</td>\n",
       "      <td>No phone service</td>\n",
       "      <td>DSL</td>\n",
       "      <td>No</td>\n",
       "      <td>...</td>\n",
       "      <td>No</td>\n",
       "      <td>No</td>\n",
       "      <td>No</td>\n",
       "      <td>No</td>\n",
       "      <td>Month-to-month</td>\n",
       "      <td>Yes</td>\n",
       "      <td>Electronic check</td>\n",
       "      <td>29.85</td>\n",
       "      <td>29.85</td>\n",
       "      <td>No</td>\n",
       "    </tr>\n",
       "    <tr>\n",
       "      <th>1</th>\n",
       "      <td>5575-GNVDE</td>\n",
       "      <td>Male</td>\n",
       "      <td>0</td>\n",
       "      <td>No</td>\n",
       "      <td>No</td>\n",
       "      <td>34</td>\n",
       "      <td>Yes</td>\n",
       "      <td>No</td>\n",
       "      <td>DSL</td>\n",
       "      <td>Yes</td>\n",
       "      <td>...</td>\n",
       "      <td>Yes</td>\n",
       "      <td>No</td>\n",
       "      <td>No</td>\n",
       "      <td>No</td>\n",
       "      <td>One year</td>\n",
       "      <td>No</td>\n",
       "      <td>Mailed check</td>\n",
       "      <td>56.95</td>\n",
       "      <td>1889.5</td>\n",
       "      <td>No</td>\n",
       "    </tr>\n",
       "    <tr>\n",
       "      <th>2</th>\n",
       "      <td>3668-QPYBK</td>\n",
       "      <td>Male</td>\n",
       "      <td>0</td>\n",
       "      <td>No</td>\n",
       "      <td>No</td>\n",
       "      <td>2</td>\n",
       "      <td>Yes</td>\n",
       "      <td>No</td>\n",
       "      <td>DSL</td>\n",
       "      <td>Yes</td>\n",
       "      <td>...</td>\n",
       "      <td>No</td>\n",
       "      <td>No</td>\n",
       "      <td>No</td>\n",
       "      <td>No</td>\n",
       "      <td>Month-to-month</td>\n",
       "      <td>Yes</td>\n",
       "      <td>Mailed check</td>\n",
       "      <td>53.85</td>\n",
       "      <td>108.15</td>\n",
       "      <td>Yes</td>\n",
       "    </tr>\n",
       "  </tbody>\n",
       "</table>\n",
       "<p>3 rows × 21 columns</p>\n",
       "</div>"
      ],
      "text/plain": [
       "   customerID  gender  SeniorCitizen Partner Dependents  tenure PhoneService  \\\n",
       "0  7590-VHVEG  Female              0     Yes         No       1           No   \n",
       "1  5575-GNVDE    Male              0      No         No      34          Yes   \n",
       "2  3668-QPYBK    Male              0      No         No       2          Yes   \n",
       "\n",
       "      MultipleLines InternetService OnlineSecurity  ... DeviceProtection  \\\n",
       "0  No phone service             DSL             No  ...               No   \n",
       "1                No             DSL            Yes  ...              Yes   \n",
       "2                No             DSL            Yes  ...               No   \n",
       "\n",
       "  TechSupport StreamingTV StreamingMovies        Contract PaperlessBilling  \\\n",
       "0          No          No              No  Month-to-month              Yes   \n",
       "1          No          No              No        One year               No   \n",
       "2          No          No              No  Month-to-month              Yes   \n",
       "\n",
       "      PaymentMethod MonthlyCharges  TotalCharges Churn  \n",
       "0  Electronic check          29.85         29.85    No  \n",
       "1      Mailed check          56.95        1889.5    No  \n",
       "2      Mailed check          53.85        108.15   Yes  \n",
       "\n",
       "[3 rows x 21 columns]"
      ]
     },
     "execution_count": 6,
     "metadata": {},
     "output_type": "execute_result"
    }
   ],
   "source": [
    "df.head(3)"
   ]
  },
  {
   "cell_type": "code",
   "execution_count": 7,
   "metadata": {},
   "outputs": [
    {
     "name": "stdout",
     "output_type": "stream",
     "text": [
      "<class 'pandas.core.frame.DataFrame'>\n",
      "RangeIndex: 7043 entries, 0 to 7042\n",
      "Data columns (total 21 columns):\n",
      " #   Column            Non-Null Count  Dtype  \n",
      "---  ------            --------------  -----  \n",
      " 0   customerID        7043 non-null   object \n",
      " 1   gender            7043 non-null   object \n",
      " 2   SeniorCitizen     7043 non-null   int64  \n",
      " 3   Partner           7043 non-null   object \n",
      " 4   Dependents        7043 non-null   object \n",
      " 5   tenure            7043 non-null   int64  \n",
      " 6   PhoneService      7043 non-null   object \n",
      " 7   MultipleLines     7043 non-null   object \n",
      " 8   InternetService   7043 non-null   object \n",
      " 9   OnlineSecurity    7043 non-null   object \n",
      " 10  OnlineBackup      7043 non-null   object \n",
      " 11  DeviceProtection  7043 non-null   object \n",
      " 12  TechSupport       7043 non-null   object \n",
      " 13  StreamingTV       7043 non-null   object \n",
      " 14  StreamingMovies   7043 non-null   object \n",
      " 15  Contract          7043 non-null   object \n",
      " 16  PaperlessBilling  7043 non-null   object \n",
      " 17  PaymentMethod     7043 non-null   object \n",
      " 18  MonthlyCharges    7043 non-null   float64\n",
      " 19  TotalCharges      7043 non-null   object \n",
      " 20  Churn             7043 non-null   object \n",
      "dtypes: float64(1), int64(2), object(18)\n",
      "memory usage: 1.1+ MB\n"
     ]
    }
   ],
   "source": [
    "df.info()"
   ]
  },
  {
   "cell_type": "markdown",
   "metadata": {},
   "source": [
    "# Preprocessing Data"
   ]
  },
  {
   "cell_type": "code",
   "execution_count": 8,
   "metadata": {},
   "outputs": [
    {
     "data": {
      "text/plain": [
       "Churn\n",
       "No     5174\n",
       "Yes    1869\n",
       "Name: Churn, dtype: int64"
      ]
     },
     "execution_count": 8,
     "metadata": {},
     "output_type": "execute_result"
    }
   ],
   "source": [
    "df.groupby('Churn')['Churn'].agg('count')\n",
    "##Number of 'No' are more than 'Yes'. The data is an unbalanced data."
   ]
  },
  {
   "cell_type": "code",
   "execution_count": 9,
   "metadata": {},
   "outputs": [],
   "source": [
    "df.gender = df.gender.apply(lambda x: 1 if x == 'Male' else 0)\n",
    "## 1 in gender is Male and 0 in gender is Female"
   ]
  },
  {
   "cell_type": "code",
   "execution_count": 10,
   "metadata": {},
   "outputs": [],
   "source": [
    "df.Partner = df.Partner.apply(lambda x: 1 if x == 'Yes' else 0)\n",
    "## 1 in partner is Yes and 0 in partner is No"
   ]
  },
  {
   "cell_type": "code",
   "execution_count": 11,
   "metadata": {},
   "outputs": [],
   "source": [
    "df.Dependents = df.Dependents.apply(lambda x: 1 if x == 'Yes' else 0)\n",
    "## 1 in Dependents is Yes and 0 in Dependents is No"
   ]
  },
  {
   "cell_type": "code",
   "execution_count": 12,
   "metadata": {},
   "outputs": [],
   "source": [
    "df.PhoneService = df.PhoneService.apply(lambda x: 1 if x == 'Yes' else 0)\n",
    "## 1 in phoneservice is Yes and 0 in phoneservice is No"
   ]
  },
  {
   "cell_type": "code",
   "execution_count": 13,
   "metadata": {},
   "outputs": [
    {
     "data": {
      "text/plain": [
       "array(['No', 'Yes', 'No internet service'], dtype=object)"
      ]
     },
     "execution_count": 13,
     "metadata": {},
     "output_type": "execute_result"
    }
   ],
   "source": [
    "df.OnlineSecurity.unique()"
   ]
  },
  {
   "cell_type": "code",
   "execution_count": 14,
   "metadata": {},
   "outputs": [],
   "source": [
    "df.MultipleLines = df.MultipleLines.map({'No phone service':0,'No':1,'Yes':2})\n",
    "## 1 in MultipleLines is No, 2 in MultipleLines is Yes, 0 in MultipleLines is 'NoPhone Service' "
   ]
  },
  {
   "cell_type": "code",
   "execution_count": 15,
   "metadata": {},
   "outputs": [],
   "source": [
    "df.InternetService = df.InternetService.map({'No':0,'Fiber optic':1,'DSL':2})\n",
    "## 0 in InternetService is No, 1 is Fiber Optic, 2 is 'DSL' "
   ]
  },
  {
   "cell_type": "code",
   "execution_count": 16,
   "metadata": {},
   "outputs": [],
   "source": [
    "df.OnlineSecurity = df.OnlineSecurity.map({'No internet service':0,'No':1,'Yes':2})\n",
    "## 0 in OnlineSecurity is No internet service, 1 is No, 2 is 'Yes' "
   ]
  },
  {
   "cell_type": "code",
   "execution_count": 17,
   "metadata": {},
   "outputs": [],
   "source": [
    "df.DeviceProtection = df.DeviceProtection.map({'No internet service':0,'No':1,'Yes':2})\n",
    "## 0 in DeviceProtection is No internet service, 1 is No, 2 is 'Yes' "
   ]
  },
  {
   "cell_type": "code",
   "execution_count": 18,
   "metadata": {},
   "outputs": [],
   "source": [
    "df.TechSupport = df.TechSupport.map({'No internet service':0,'No':1,'Yes':2})\n",
    "## 0 in TechSupport is No internet service, 1 is No, 2 is 'Yes' "
   ]
  },
  {
   "cell_type": "code",
   "execution_count": 19,
   "metadata": {},
   "outputs": [],
   "source": [
    "df.StreamingTV = df.StreamingTV.map({'No internet service':0,'No':1,'Yes':2})\n",
    "## 0 in StreamingTV is No internet service, 1 is No, 2 is 'Yes' "
   ]
  },
  {
   "cell_type": "code",
   "execution_count": 20,
   "metadata": {},
   "outputs": [],
   "source": [
    "df.StreamingMovies = df.StreamingMovies.map({'No internet service':0,'No':1,'Yes':2})\n",
    "## 0 in StreamingMovies is No internet service, 1 is No, 2 is 'Yes' "
   ]
  },
  {
   "cell_type": "code",
   "execution_count": 21,
   "metadata": {},
   "outputs": [],
   "source": [
    "df.Contract = df.Contract.map({'Month-to-month':0,'One year':1,'Two year':2})\n",
    "## 0 in Contract is Month-to-month, 1 is One year, 2 is 'Two year' "
   ]
  },
  {
   "cell_type": "code",
   "execution_count": 22,
   "metadata": {},
   "outputs": [],
   "source": [
    "df.OnlineBackup = df.OnlineBackup.map({'No internet service':0,'No':1,'Yes':2})\n",
    "## 0 in Contract is Month-to-month, 1 is One year, 2 is 'Two year' "
   ]
  },
  {
   "cell_type": "code",
   "execution_count": 23,
   "metadata": {},
   "outputs": [],
   "source": [
    "df.PaperlessBilling = df.PaperlessBilling.map({'No':0,'Yes':1})\n",
    "## 0 in PaperlessBilling is No, 1 is 'Yes' "
   ]
  },
  {
   "cell_type": "code",
   "execution_count": 24,
   "metadata": {},
   "outputs": [],
   "source": [
    "df.PaymentMethod = df.PaymentMethod.map({'Electronic check':0,'Mailed check':1,'Bank transfer (automatic)':2,'Credit card (automatic)':3})\n",
    "## 0 in PaperlessBilling is No, 1 is 'Yes' "
   ]
  },
  {
   "cell_type": "code",
   "execution_count": 25,
   "metadata": {},
   "outputs": [],
   "source": [
    "def is_float(x):\n",
    "    try:\n",
    "        float(x)\n",
    "    except:\n",
    "        return False\n",
    "    return True"
   ]
  },
  {
   "cell_type": "code",
   "execution_count": 26,
   "metadata": {},
   "outputs": [],
   "source": [
    "df = df[df['TotalCharges'].apply(is_float)]"
   ]
  },
  {
   "cell_type": "code",
   "execution_count": 27,
   "metadata": {},
   "outputs": [
    {
     "data": {
      "text/plain": [
       "7032"
      ]
     },
     "execution_count": 27,
     "metadata": {},
     "output_type": "execute_result"
    }
   ],
   "source": [
    "len(df)"
   ]
  },
  {
   "cell_type": "code",
   "execution_count": 28,
   "metadata": {},
   "outputs": [],
   "source": [
    "df.TotalCharges = df.TotalCharges.astype('float')"
   ]
  },
  {
   "cell_type": "code",
   "execution_count": 29,
   "metadata": {},
   "outputs": [],
   "source": [
    "df.Churn= df.Churn.apply(lambda x: 1 if x == 'Yes' else 0)\n",
    "## 1 in gender is Male and 0 in gender is Female"
   ]
  },
  {
   "cell_type": "markdown",
   "metadata": {},
   "source": [
    "# Exploratory Data Analysis"
   ]
  },
  {
   "cell_type": "code",
   "execution_count": 30,
   "metadata": {},
   "outputs": [
    {
     "data": {
      "text/plain": [
       "<seaborn.axisgrid.FacetGrid at 0x13b653ac48>"
      ]
     },
     "execution_count": 30,
     "metadata": {},
     "output_type": "execute_result"
    },
    {
     "data": {
      "image/png": "[encoded data removed]",
      "text/plain": [
       "<Figure size 360x360 with 1 Axes>"
      ]
     },
     "metadata": {
      "needs_background": "light"
     },
     "output_type": "display_data"
    }
   ],
   "source": [
    "sns.catplot(x='Churn', y='Contract', data= df, kind='violin',palette = 'Pastel1')\n",
    "#Most of the customers who leave have the Month-to-Month subscription "
   ]
  },
  {
   "cell_type": "code",
   "execution_count": 31,
   "metadata": {},
   "outputs": [
    {
     "data": {
      "text/plain": [
       "<seaborn.axisgrid.FacetGrid at 0x13b6cad108>"
      ]
     },
     "execution_count": 31,
     "metadata": {},
     "output_type": "execute_result"
    },
    {
     "data": {
      "image/png": "[encoded data removed]",
      "text/plain": [
       "<Figure size 360x360 with 1 Axes>"
      ]
     },
     "metadata": {
      "needs_background": "light"
     },
     "output_type": "display_data"
    }
   ],
   "source": [
    "sns.catplot(x='Churn', y='SeniorCitizen', data= df, kind='violin',palette = 'Pastel1')\n",
    "# Senior Citizens seem to not leave within a month"
   ]
  },
  {
   "cell_type": "code",
   "execution_count": 32,
   "metadata": {},
   "outputs": [
    {
     "data": {
      "text/plain": [
       "<seaborn.axisgrid.FacetGrid at 0x13b6cbd188>"
      ]
     },
     "execution_count": 32,
     "metadata": {},
     "output_type": "execute_result"
    },
    {
     "data": {
      "image/png": "[encoded data removed]",
      "text/plain": [
       "<Figure size 360x360 with 1 Axes>"
      ]
     },
     "metadata": {
      "needs_background": "light"
     },
     "output_type": "display_data"
    }
   ],
   "source": [
    "sns.catplot(x='Churn', y='TotalCharges', data= df, kind='violin',palette = 'Pastel1')"
   ]
  },
  {
   "cell_type": "code",
   "execution_count": 33,
   "metadata": {},
   "outputs": [
    {
     "data": {
      "text/plain": [
       "<seaborn.axisgrid.FacetGrid at 0x13b6e8c808>"
      ]
     },
     "execution_count": 33,
     "metadata": {},
     "output_type": "execute_result"
    },
    {
     "data": {
      "image/png": "[encoded data removed]",
      "text/plain": [
       "<Figure size 360x360 with 1 Axes>"
      ]
     },
     "metadata": {
      "needs_background": "light"
     },
     "output_type": "display_data"
    }
   ],
   "source": [
    "sns.catplot(x='Churn', y='tenure', data= df, kind='violin',palette = 'Pastel1')"
   ]
  },
  {
   "cell_type": "code",
   "execution_count": 34,
   "metadata": {},
   "outputs": [],
   "source": [
    "df_clean = df.copy()"
   ]
  },
  {
   "cell_type": "code",
   "execution_count": 35,
   "metadata": {},
   "outputs": [
    {
     "data": {
      "text/html": [
       "<div>\n",
       "<style scoped>\n",
       "    .dataframe tbody tr th:only-of-type {\n",
       "        vertical-align: middle;\n",
       "    }\n",
       "\n",
       "    .dataframe tbody tr th {\n",
       "        vertical-align: top;\n",
       "    }\n",
       "\n",
       "    .dataframe thead th {\n",
       "        text-align: right;\n",
       "    }\n",
       "</style>\n",
       "<table border=\"1\" class=\"dataframe\">\n",
       "  <thead>\n",
       "    <tr style=\"text-align: right;\">\n",
       "      <th></th>\n",
       "      <th>gender</th>\n",
       "      <th>SeniorCitizen</th>\n",
       "      <th>Partner</th>\n",
       "      <th>Dependents</th>\n",
       "      <th>tenure</th>\n",
       "      <th>PhoneService</th>\n",
       "      <th>MultipleLines</th>\n",
       "      <th>InternetService</th>\n",
       "      <th>OnlineSecurity</th>\n",
       "      <th>OnlineBackup</th>\n",
       "      <th>DeviceProtection</th>\n",
       "      <th>TechSupport</th>\n",
       "      <th>StreamingTV</th>\n",
       "      <th>StreamingMovies</th>\n",
       "      <th>Contract</th>\n",
       "      <th>PaperlessBilling</th>\n",
       "      <th>PaymentMethod</th>\n",
       "      <th>MonthlyCharges</th>\n",
       "      <th>TotalCharges</th>\n",
       "      <th>Churn</th>\n",
       "    </tr>\n",
       "  </thead>\n",
       "  <tbody>\n",
       "    <tr>\n",
       "      <th>gender</th>\n",
       "      <td>1.000000</td>\n",
       "      <td>-0.001819</td>\n",
       "      <td>-0.001379</td>\n",
       "      <td>0.010349</td>\n",
       "      <td>0.005285</td>\n",
       "      <td>-0.007515</td>\n",
       "      <td>-0.010284</td>\n",
       "      <td>0.002236</td>\n",
       "      <td>-0.013233</td>\n",
       "      <td>-0.011081</td>\n",
       "      <td>-0.003168</td>\n",
       "      <td>-0.008215</td>\n",
       "      <td>-0.007163</td>\n",
       "      <td>-0.009072</td>\n",
       "      <td>0.000095</td>\n",
       "      <td>-0.011902</td>\n",
       "      <td>-0.004928</td>\n",
       "      <td>-0.013779</td>\n",
       "      <td>0.000048</td>\n",
       "      <td>-0.008545</td>\n",
       "    </tr>\n",
       "    <tr>\n",
       "      <th>SeniorCitizen</th>\n",
       "      <td>-0.001819</td>\n",
       "      <td>1.000000</td>\n",
       "      <td>0.016957</td>\n",
       "      <td>-0.210550</td>\n",
       "      <td>0.015683</td>\n",
       "      <td>0.008392</td>\n",
       "      <td>0.113769</td>\n",
       "      <td>0.032160</td>\n",
       "      <td>0.081766</td>\n",
       "      <td>0.144762</td>\n",
       "      <td>0.140226</td>\n",
       "      <td>0.067318</td>\n",
       "      <td>0.167123</td>\n",
       "      <td>0.176125</td>\n",
       "      <td>-0.141820</td>\n",
       "      <td>0.156258</td>\n",
       "      <td>-0.093712</td>\n",
       "      <td>0.219874</td>\n",
       "      <td>0.102411</td>\n",
       "      <td>0.150541</td>\n",
       "    </tr>\n",
       "    <tr>\n",
       "      <th>Partner</th>\n",
       "      <td>-0.001379</td>\n",
       "      <td>0.016957</td>\n",
       "      <td>1.000000</td>\n",
       "      <td>0.452269</td>\n",
       "      <td>0.381912</td>\n",
       "      <td>0.018397</td>\n",
       "      <td>0.118037</td>\n",
       "      <td>-0.000513</td>\n",
       "      <td>0.092034</td>\n",
       "      <td>0.091536</td>\n",
       "      <td>0.099077</td>\n",
       "      <td>0.077252</td>\n",
       "      <td>0.080205</td>\n",
       "      <td>0.076076</td>\n",
       "      <td>0.294094</td>\n",
       "      <td>-0.013957</td>\n",
       "      <td>0.133280</td>\n",
       "      <td>0.097825</td>\n",
       "      <td>0.319072</td>\n",
       "      <td>-0.149982</td>\n",
       "    </tr>\n",
       "    <tr>\n",
       "      <th>Dependents</th>\n",
       "      <td>0.010349</td>\n",
       "      <td>-0.210550</td>\n",
       "      <td>0.452269</td>\n",
       "      <td>1.000000</td>\n",
       "      <td>0.163386</td>\n",
       "      <td>-0.001078</td>\n",
       "      <td>-0.019178</td>\n",
       "      <td>-0.044030</td>\n",
       "      <td>-0.028964</td>\n",
       "      <td>-0.061970</td>\n",
       "      <td>-0.068296</td>\n",
       "      <td>-0.040057</td>\n",
       "      <td>-0.085909</td>\n",
       "      <td>-0.099795</td>\n",
       "      <td>0.240556</td>\n",
       "      <td>-0.110131</td>\n",
       "      <td>0.124002</td>\n",
       "      <td>-0.112343</td>\n",
       "      <td>0.064653</td>\n",
       "      <td>-0.163128</td>\n",
       "    </tr>\n",
       "    <tr>\n",
       "      <th>tenure</th>\n",
       "      <td>0.005285</td>\n",
       "      <td>0.015683</td>\n",
       "      <td>0.381912</td>\n",
       "      <td>0.163386</td>\n",
       "      <td>1.000000</td>\n",
       "      <td>0.007877</td>\n",
       "      <td>0.259112</td>\n",
       "      <td>0.029835</td>\n",
       "      <td>0.232295</td>\n",
       "      <td>0.253575</td>\n",
       "      <td>0.253834</td>\n",
       "      <td>0.230429</td>\n",
       "      <td>0.200646</td>\n",
       "      <td>0.203834</td>\n",
       "      <td>0.676734</td>\n",
       "      <td>0.004823</td>\n",
       "      <td>0.340939</td>\n",
       "      <td>0.246862</td>\n",
       "      <td>0.825880</td>\n",
       "      <td>-0.354049</td>\n",
       "    </tr>\n",
       "    <tr>\n",
       "      <th>PhoneService</th>\n",
       "      <td>-0.007515</td>\n",
       "      <td>0.008392</td>\n",
       "      <td>0.018397</td>\n",
       "      <td>-0.001078</td>\n",
       "      <td>0.007877</td>\n",
       "      <td>1.000000</td>\n",
       "      <td>0.674824</td>\n",
       "      <td>-0.387266</td>\n",
       "      <td>-0.158997</td>\n",
       "      <td>-0.129432</td>\n",
       "      <td>-0.141055</td>\n",
       "      <td>-0.160950</td>\n",
       "      <td>-0.107242</td>\n",
       "      <td>-0.114798</td>\n",
       "      <td>0.003019</td>\n",
       "      <td>0.016696</td>\n",
       "      <td>-0.003106</td>\n",
       "      <td>0.248033</td>\n",
       "      <td>0.113008</td>\n",
       "      <td>0.011691</td>\n",
       "    </tr>\n",
       "    <tr>\n",
       "      <th>MultipleLines</th>\n",
       "      <td>-0.010284</td>\n",
       "      <td>0.113769</td>\n",
       "      <td>0.118037</td>\n",
       "      <td>-0.019178</td>\n",
       "      <td>0.259112</td>\n",
       "      <td>0.674824</td>\n",
       "      <td>1.000000</td>\n",
       "      <td>-0.186852</td>\n",
       "      <td>0.069959</td>\n",
       "      <td>0.130978</td>\n",
       "      <td>0.125447</td>\n",
       "      <td>0.069706</td>\n",
       "      <td>0.166256</td>\n",
       "      <td>0.163218</td>\n",
       "      <td>0.084037</td>\n",
       "      <td>0.133538</td>\n",
       "      <td>0.026248</td>\n",
       "      <td>0.491412</td>\n",
       "      <td>0.412495</td>\n",
       "      <td>0.036148</td>\n",
       "    </tr>\n",
       "    <tr>\n",
       "      <th>InternetService</th>\n",
       "      <td>0.002236</td>\n",
       "      <td>0.032160</td>\n",
       "      <td>-0.000513</td>\n",
       "      <td>-0.044030</td>\n",
       "      <td>0.029835</td>\n",
       "      <td>-0.387266</td>\n",
       "      <td>-0.186852</td>\n",
       "      <td>1.000000</td>\n",
       "      <td>0.719879</td>\n",
       "      <td>0.650084</td>\n",
       "      <td>0.645266</td>\n",
       "      <td>0.716276</td>\n",
       "      <td>0.592172</td>\n",
       "      <td>0.596779</td>\n",
       "      <td>-0.099579</td>\n",
       "      <td>0.138166</td>\n",
       "      <td>-0.008851</td>\n",
       "      <td>0.322173</td>\n",
       "      <td>0.175691</td>\n",
       "      <td>0.047097</td>\n",
       "    </tr>\n",
       "    <tr>\n",
       "      <th>OnlineSecurity</th>\n",
       "      <td>-0.013233</td>\n",
       "      <td>0.081766</td>\n",
       "      <td>0.092034</td>\n",
       "      <td>-0.028964</td>\n",
       "      <td>0.232295</td>\n",
       "      <td>-0.158997</td>\n",
       "      <td>0.069959</td>\n",
       "      <td>0.719879</td>\n",
       "      <td>1.000000</td>\n",
       "      <td>0.704598</td>\n",
       "      <td>0.701112</td>\n",
       "      <td>0.734696</td>\n",
       "      <td>0.661541</td>\n",
       "      <td>0.666682</td>\n",
       "      <td>0.016495</td>\n",
       "      <td>0.184449</td>\n",
       "      <td>0.035563</td>\n",
       "      <td>0.635260</td>\n",
       "      <td>0.483157</td>\n",
       "      <td>0.023014</td>\n",
       "    </tr>\n",
       "    <tr>\n",
       "      <th>OnlineBackup</th>\n",
       "      <td>-0.011081</td>\n",
       "      <td>0.144762</td>\n",
       "      <td>0.091536</td>\n",
       "      <td>-0.061970</td>\n",
       "      <td>0.253575</td>\n",
       "      <td>-0.129432</td>\n",
       "      <td>0.130978</td>\n",
       "      <td>0.650084</td>\n",
       "      <td>0.704598</td>\n",
       "      <td>1.000000</td>\n",
       "      <td>0.710790</td>\n",
       "      <td>0.708659</td>\n",
       "      <td>0.702605</td>\n",
       "      <td>0.699828</td>\n",
       "      <td>-0.034745</td>\n",
       "      <td>0.260691</td>\n",
       "      <td>-0.003786</td>\n",
       "      <td>0.710175</td>\n",
       "      <td>0.537726</td>\n",
       "      <td>0.073934</td>\n",
       "    </tr>\n",
       "    <tr>\n",
       "      <th>DeviceProtection</th>\n",
       "      <td>-0.003168</td>\n",
       "      <td>0.140226</td>\n",
       "      <td>0.099077</td>\n",
       "      <td>-0.068296</td>\n",
       "      <td>0.253834</td>\n",
       "      <td>-0.141055</td>\n",
       "      <td>0.125447</td>\n",
       "      <td>0.645266</td>\n",
       "      <td>0.701112</td>\n",
       "      <td>0.710790</td>\n",
       "      <td>1.000000</td>\n",
       "      <td>0.724817</td>\n",
       "      <td>0.747489</td>\n",
       "      <td>0.752755</td>\n",
       "      <td>0.006638</td>\n",
       "      <td>0.246011</td>\n",
       "      <td>0.005643</td>\n",
       "      <td>0.736925</td>\n",
       "      <td>0.546100</td>\n",
       "      <td>0.084402</td>\n",
       "    </tr>\n",
       "    <tr>\n",
       "      <th>TechSupport</th>\n",
       "      <td>-0.008215</td>\n",
       "      <td>0.067318</td>\n",
       "      <td>0.077252</td>\n",
       "      <td>-0.040057</td>\n",
       "      <td>0.230429</td>\n",
       "      <td>-0.160950</td>\n",
       "      <td>0.069706</td>\n",
       "      <td>0.716276</td>\n",
       "      <td>0.734696</td>\n",
       "      <td>0.708659</td>\n",
       "      <td>0.724817</td>\n",
       "      <td>1.000000</td>\n",
       "      <td>0.703306</td>\n",
       "      <td>0.704595</td>\n",
       "      <td>0.048001</td>\n",
       "      <td>0.210547</td>\n",
       "      <td>0.038621</td>\n",
       "      <td>0.660864</td>\n",
       "      <td>0.495641</td>\n",
       "      <td>0.026744</td>\n",
       "    </tr>\n",
       "    <tr>\n",
       "      <th>StreamingTV</th>\n",
       "      <td>-0.007163</td>\n",
       "      <td>0.167123</td>\n",
       "      <td>0.080205</td>\n",
       "      <td>-0.085909</td>\n",
       "      <td>0.200646</td>\n",
       "      <td>-0.107242</td>\n",
       "      <td>0.166256</td>\n",
       "      <td>0.592172</td>\n",
       "      <td>0.661541</td>\n",
       "      <td>0.702605</td>\n",
       "      <td>0.747489</td>\n",
       "      <td>0.703306</td>\n",
       "      <td>1.000000</td>\n",
       "      <td>0.807118</td>\n",
       "      <td>-0.064457</td>\n",
       "      <td>0.318646</td>\n",
       "      <td>-0.073319</td>\n",
       "      <td>0.820193</td>\n",
       "      <td>0.535616</td>\n",
       "      <td>0.164509</td>\n",
       "    </tr>\n",
       "    <tr>\n",
       "      <th>StreamingMovies</th>\n",
       "      <td>-0.009072</td>\n",
       "      <td>0.176125</td>\n",
       "      <td>0.076076</td>\n",
       "      <td>-0.099795</td>\n",
       "      <td>0.203834</td>\n",
       "      <td>-0.114798</td>\n",
       "      <td>0.163218</td>\n",
       "      <td>0.596779</td>\n",
       "      <td>0.666682</td>\n",
       "      <td>0.699828</td>\n",
       "      <td>0.752755</td>\n",
       "      <td>0.704595</td>\n",
       "      <td>0.807118</td>\n",
       "      <td>1.000000</td>\n",
       "      <td>-0.060995</td>\n",
       "      <td>0.310055</td>\n",
       "      <td>-0.066761</td>\n",
       "      <td>0.817525</td>\n",
       "      <td>0.537695</td>\n",
       "      <td>0.162672</td>\n",
       "    </tr>\n",
       "    <tr>\n",
       "      <th>Contract</th>\n",
       "      <td>0.000095</td>\n",
       "      <td>-0.141820</td>\n",
       "      <td>0.294094</td>\n",
       "      <td>0.240556</td>\n",
       "      <td>0.676734</td>\n",
       "      <td>0.003019</td>\n",
       "      <td>0.084037</td>\n",
       "      <td>-0.099579</td>\n",
       "      <td>0.016495</td>\n",
       "      <td>-0.034745</td>\n",
       "      <td>0.006638</td>\n",
       "      <td>0.048001</td>\n",
       "      <td>-0.064457</td>\n",
       "      <td>-0.060995</td>\n",
       "      <td>1.000000</td>\n",
       "      <td>-0.175475</td>\n",
       "      <td>0.359487</td>\n",
       "      <td>-0.072739</td>\n",
       "      <td>0.450306</td>\n",
       "      <td>-0.396150</td>\n",
       "    </tr>\n",
       "    <tr>\n",
       "      <th>PaperlessBilling</th>\n",
       "      <td>-0.011902</td>\n",
       "      <td>0.156258</td>\n",
       "      <td>-0.013957</td>\n",
       "      <td>-0.110131</td>\n",
       "      <td>0.004823</td>\n",
       "      <td>0.016696</td>\n",
       "      <td>0.133538</td>\n",
       "      <td>0.138166</td>\n",
       "      <td>0.184449</td>\n",
       "      <td>0.260691</td>\n",
       "      <td>0.246011</td>\n",
       "      <td>0.210547</td>\n",
       "      <td>0.318646</td>\n",
       "      <td>0.310055</td>\n",
       "      <td>-0.175475</td>\n",
       "      <td>1.000000</td>\n",
       "      <td>-0.101790</td>\n",
       "      <td>0.351930</td>\n",
       "      <td>0.157830</td>\n",
       "      <td>0.191454</td>\n",
       "    </tr>\n",
       "    <tr>\n",
       "      <th>PaymentMethod</th>\n",
       "      <td>-0.004928</td>\n",
       "      <td>-0.093712</td>\n",
       "      <td>0.133280</td>\n",
       "      <td>0.124002</td>\n",
       "      <td>0.340939</td>\n",
       "      <td>-0.003106</td>\n",
       "      <td>0.026248</td>\n",
       "      <td>-0.008851</td>\n",
       "      <td>0.035563</td>\n",
       "      <td>-0.003786</td>\n",
       "      <td>0.005643</td>\n",
       "      <td>0.038621</td>\n",
       "      <td>-0.073319</td>\n",
       "      <td>-0.066761</td>\n",
       "      <td>0.359487</td>\n",
       "      <td>-0.101790</td>\n",
       "      <td>1.000000</td>\n",
       "      <td>-0.074640</td>\n",
       "      <td>0.222694</td>\n",
       "      <td>-0.262918</td>\n",
       "    </tr>\n",
       "    <tr>\n",
       "      <th>MonthlyCharges</th>\n",
       "      <td>-0.013779</td>\n",
       "      <td>0.219874</td>\n",
       "      <td>0.097825</td>\n",
       "      <td>-0.112343</td>\n",
       "      <td>0.246862</td>\n",
       "      <td>0.248033</td>\n",
       "      <td>0.491412</td>\n",
       "      <td>0.322173</td>\n",
       "      <td>0.635260</td>\n",
       "      <td>0.710175</td>\n",
       "      <td>0.736925</td>\n",
       "      <td>0.660864</td>\n",
       "      <td>0.820193</td>\n",
       "      <td>0.817525</td>\n",
       "      <td>-0.072739</td>\n",
       "      <td>0.351930</td>\n",
       "      <td>-0.074640</td>\n",
       "      <td>1.000000</td>\n",
       "      <td>0.651065</td>\n",
       "      <td>0.192858</td>\n",
       "    </tr>\n",
       "    <tr>\n",
       "      <th>TotalCharges</th>\n",
       "      <td>0.000048</td>\n",
       "      <td>0.102411</td>\n",
       "      <td>0.319072</td>\n",
       "      <td>0.064653</td>\n",
       "      <td>0.825880</td>\n",
       "      <td>0.113008</td>\n",
       "      <td>0.412495</td>\n",
       "      <td>0.175691</td>\n",
       "      <td>0.483157</td>\n",
       "      <td>0.537726</td>\n",
       "      <td>0.546100</td>\n",
       "      <td>0.495641</td>\n",
       "      <td>0.535616</td>\n",
       "      <td>0.537695</td>\n",
       "      <td>0.450306</td>\n",
       "      <td>0.157830</td>\n",
       "      <td>0.222694</td>\n",
       "      <td>0.651065</td>\n",
       "      <td>1.000000</td>\n",
       "      <td>-0.199484</td>\n",
       "    </tr>\n",
       "    <tr>\n",
       "      <th>Churn</th>\n",
       "      <td>-0.008545</td>\n",
       "      <td>0.150541</td>\n",
       "      <td>-0.149982</td>\n",
       "      <td>-0.163128</td>\n",
       "      <td>-0.354049</td>\n",
       "      <td>0.011691</td>\n",
       "      <td>0.036148</td>\n",
       "      <td>0.047097</td>\n",
       "      <td>0.023014</td>\n",
       "      <td>0.073934</td>\n",
       "      <td>0.084402</td>\n",
       "      <td>0.026744</td>\n",
       "      <td>0.164509</td>\n",
       "      <td>0.162672</td>\n",
       "      <td>-0.396150</td>\n",
       "      <td>0.191454</td>\n",
       "      <td>-0.262918</td>\n",
       "      <td>0.192858</td>\n",
       "      <td>-0.199484</td>\n",
       "      <td>1.000000</td>\n",
       "    </tr>\n",
       "  </tbody>\n",
       "</table>\n",
       "</div>"
      ],
      "text/plain": [
       "                    gender  SeniorCitizen   Partner  Dependents    tenure  \\\n",
       "gender            1.000000      -0.001819 -0.001379    0.010349  0.005285   \n",
       "SeniorCitizen    -0.001819       1.000000  0.016957   -0.210550  0.015683   \n",
       "Partner          -0.001379       0.016957  1.000000    0.452269  0.381912   \n",
       "Dependents        0.010349      -0.210550  0.452269    1.000000  0.163386   \n",
       "tenure            0.005285       0.015683  0.381912    0.163386  1.000000   \n",
       "PhoneService     -0.007515       0.008392  0.018397   -0.001078  0.007877   \n",
       "MultipleLines    -0.010284       0.113769  0.118037   -0.019178  0.259112   \n",
       "InternetService   0.002236       0.032160 -0.000513   -0.044030  0.029835   \n",
       "OnlineSecurity   -0.013233       0.081766  0.092034   -0.028964  0.232295   \n",
       "OnlineBackup     -0.011081       0.144762  0.091536   -0.061970  0.253575   \n",
       "DeviceProtection -0.003168       0.140226  0.099077   -0.068296  0.253834   \n",
       "TechSupport      -0.008215       0.067318  0.077252   -0.040057  0.230429   \n",
       "StreamingTV      -0.007163       0.167123  0.080205   -0.085909  0.200646   \n",
       "StreamingMovies  -0.009072       0.176125  0.076076   -0.099795  0.203834   \n",
       "Contract          0.000095      -0.141820  0.294094    0.240556  0.676734   \n",
       "PaperlessBilling -0.011902       0.156258 -0.013957   -0.110131  0.004823   \n",
       "PaymentMethod    -0.004928      -0.093712  0.133280    0.124002  0.340939   \n",
       "MonthlyCharges   -0.013779       0.219874  0.097825   -0.112343  0.246862   \n",
       "TotalCharges      0.000048       0.102411  0.319072    0.064653  0.825880   \n",
       "Churn            -0.008545       0.150541 -0.149982   -0.163128 -0.354049   \n",
       "\n",
       "                  PhoneService  MultipleLines  InternetService  \\\n",
       "gender               -0.007515      -0.010284         0.002236   \n",
       "SeniorCitizen         0.008392       0.113769         0.032160   \n",
       "Partner               0.018397       0.118037        -0.000513   \n",
       "Dependents           -0.001078      -0.019178        -0.044030   \n",
       "tenure                0.007877       0.259112         0.029835   \n",
       "PhoneService          1.000000       0.674824        -0.387266   \n",
       "MultipleLines         0.674824       1.000000        -0.186852   \n",
       "InternetService      -0.387266      -0.186852         1.000000   \n",
       "OnlineSecurity       -0.158997       0.069959         0.719879   \n",
       "OnlineBackup         -0.129432       0.130978         0.650084   \n",
       "DeviceProtection     -0.141055       0.125447         0.645266   \n",
       "TechSupport          -0.160950       0.069706         0.716276   \n",
       "StreamingTV          -0.107242       0.166256         0.592172   \n",
       "StreamingMovies      -0.114798       0.163218         0.596779   \n",
       "Contract              0.003019       0.084037        -0.099579   \n",
       "PaperlessBilling      0.016696       0.133538         0.138166   \n",
       "PaymentMethod        -0.003106       0.026248        -0.008851   \n",
       "MonthlyCharges        0.248033       0.491412         0.322173   \n",
       "TotalCharges          0.113008       0.412495         0.175691   \n",
       "Churn                 0.011691       0.036148         0.047097   \n",
       "\n",
       "                  OnlineSecurity  OnlineBackup  DeviceProtection  TechSupport  \\\n",
       "gender                 -0.013233     -0.011081         -0.003168    -0.008215   \n",
       "SeniorCitizen           0.081766      0.144762          0.140226     0.067318   \n",
       "Partner                 0.092034      0.091536          0.099077     0.077252   \n",
       "Dependents             -0.028964     -0.061970         -0.068296    -0.040057   \n",
       "tenure                  0.232295      0.253575          0.253834     0.230429   \n",
       "PhoneService           -0.158997     -0.129432         -0.141055    -0.160950   \n",
       "MultipleLines           0.069959      0.130978          0.125447     0.069706   \n",
       "InternetService         0.719879      0.650084          0.645266     0.716276   \n",
       "OnlineSecurity          1.000000      0.704598          0.701112     0.734696   \n",
       "OnlineBackup            0.704598      1.000000          0.710790     0.708659   \n",
       "DeviceProtection        0.701112      0.710790          1.000000     0.724817   \n",
       "TechSupport             0.734696      0.708659          0.724817     1.000000   \n",
       "StreamingTV             0.661541      0.702605          0.747489     0.703306   \n",
       "StreamingMovies         0.666682      0.699828          0.752755     0.704595   \n",
       "Contract                0.016495     -0.034745          0.006638     0.048001   \n",
       "PaperlessBilling        0.184449      0.260691          0.246011     0.210547   \n",
       "PaymentMethod           0.035563     -0.003786          0.005643     0.038621   \n",
       "MonthlyCharges          0.635260      0.710175          0.736925     0.660864   \n",
       "TotalCharges            0.483157      0.537726          0.546100     0.495641   \n",
       "Churn                   0.023014      0.073934          0.084402     0.026744   \n",
       "\n",
       "                  StreamingTV  StreamingMovies  Contract  PaperlessBilling  \\\n",
       "gender              -0.007163        -0.009072  0.000095         -0.011902   \n",
       "SeniorCitizen        0.167123         0.176125 -0.141820          0.156258   \n",
       "Partner              0.080205         0.076076  0.294094         -0.013957   \n",
       "Dependents          -0.085909        -0.099795  0.240556         -0.110131   \n",
       "tenure               0.200646         0.203834  0.676734          0.004823   \n",
       "PhoneService        -0.107242        -0.114798  0.003019          0.016696   \n",
       "MultipleLines        0.166256         0.163218  0.084037          0.133538   \n",
       "InternetService      0.592172         0.596779 -0.099579          0.138166   \n",
       "OnlineSecurity       0.661541         0.666682  0.016495          0.184449   \n",
       "OnlineBackup         0.702605         0.699828 -0.034745          0.260691   \n",
       "DeviceProtection     0.747489         0.752755  0.006638          0.246011   \n",
       "TechSupport          0.703306         0.704595  0.048001          0.210547   \n",
       "StreamingTV          1.000000         0.807118 -0.064457          0.318646   \n",
       "StreamingMovies      0.807118         1.000000 -0.060995          0.310055   \n",
       "Contract            -0.064457        -0.060995  1.000000         -0.175475   \n",
       "PaperlessBilling     0.318646         0.310055 -0.175475          1.000000   \n",
       "PaymentMethod       -0.073319        -0.066761  0.359487         -0.101790   \n",
       "MonthlyCharges       0.820193         0.817525 -0.072739          0.351930   \n",
       "TotalCharges         0.535616         0.537695  0.450306          0.157830   \n",
       "Churn                0.164509         0.162672 -0.396150          0.191454   \n",
       "\n",
       "                  PaymentMethod  MonthlyCharges  TotalCharges     Churn  \n",
       "gender                -0.004928       -0.013779      0.000048 -0.008545  \n",
       "SeniorCitizen         -0.093712        0.219874      0.102411  0.150541  \n",
       "Partner                0.133280        0.097825      0.319072 -0.149982  \n",
       "Dependents             0.124002       -0.112343      0.064653 -0.163128  \n",
       "tenure                 0.340939        0.246862      0.825880 -0.354049  \n",
       "PhoneService          -0.003106        0.248033      0.113008  0.011691  \n",
       "MultipleLines          0.026248        0.491412      0.412495  0.036148  \n",
       "InternetService       -0.008851        0.322173      0.175691  0.047097  \n",
       "OnlineSecurity         0.035563        0.635260      0.483157  0.023014  \n",
       "OnlineBackup          -0.003786        0.710175      0.537726  0.073934  \n",
       "DeviceProtection       0.005643        0.736925      0.546100  0.084402  \n",
       "TechSupport            0.038621        0.660864      0.495641  0.026744  \n",
       "StreamingTV           -0.073319        0.820193      0.535616  0.164509  \n",
       "StreamingMovies       -0.066761        0.817525      0.537695  0.162672  \n",
       "Contract               0.359487       -0.072739      0.450306 -0.396150  \n",
       "PaperlessBilling      -0.101790        0.351930      0.157830  0.191454  \n",
       "PaymentMethod          1.000000       -0.074640      0.222694 -0.262918  \n",
       "MonthlyCharges        -0.074640        1.000000      0.651065  0.192858  \n",
       "TotalCharges           0.222694        0.651065      1.000000 -0.199484  \n",
       "Churn                 -0.262918        0.192858     -0.199484  1.000000  "
      ]
     },
     "execution_count": 35,
     "metadata": {},
     "output_type": "execute_result"
    }
   ],
   "source": [
    "df_clean.corr()"
   ]
  },
  {
   "cell_type": "code",
   "execution_count": 36,
   "metadata": {},
   "outputs": [
    {
     "data": {
      "image/png": "[encoded data removed]",
      "text/plain": [
       "<Figure size 720x720 with 2 Axes>"
      ]
     },
     "metadata": {
      "needs_background": "light"
     },
     "output_type": "display_data"
    }
   ],
   "source": [
    "plt.figure(figsize = [10,10])\n",
    "sns.heatmap(df_clean.corr(),annot=True,annot_kws={'size':7})\n",
    "plt.show()"
   ]
  },
  {
   "cell_type": "markdown",
   "metadata": {},
   "source": [
    "# Splitting Data and Fitting Model"
   ]
  },
  {
   "cell_type": "code",
   "execution_count": 37,
   "metadata": {},
   "outputs": [],
   "source": [
    "from sklearn.model_selection import train_test_split\n",
    "from sklearn.linear_model import LogisticRegression\n",
    "from sklearn.metrics import f1_score, confusion_matrix\n",
    "from sklearn.utils import shuffle"
   ]
  },
  {
   "cell_type": "code",
   "execution_count": 38,
   "metadata": {},
   "outputs": [],
   "source": [
    "features = df_clean.drop(['Churn','customerID'],axis = 1)\n",
    "churn = df_clean.Churn"
   ]
  },
  {
   "cell_type": "code",
   "execution_count": 39,
   "metadata": {},
   "outputs": [],
   "source": [
    "x_train,x_test,y_train,y_test = train_test_split(features,churn,test_size=0.25, random_state=50)"
   ]
  },
  {
   "cell_type": "code",
   "execution_count": 40,
   "metadata": {},
   "outputs": [
    {
     "data": {
      "text/html": [
       "<div>\n",
       "<style scoped>\n",
       "    .dataframe tbody tr th:only-of-type {\n",
       "        vertical-align: middle;\n",
       "    }\n",
       "\n",
       "    .dataframe tbody tr th {\n",
       "        vertical-align: top;\n",
       "    }\n",
       "\n",
       "    .dataframe thead th {\n",
       "        text-align: right;\n",
       "    }\n",
       "</style>\n",
       "<table border=\"1\" class=\"dataframe\">\n",
       "  <thead>\n",
       "    <tr style=\"text-align: right;\">\n",
       "      <th></th>\n",
       "      <th>gender</th>\n",
       "      <th>SeniorCitizen</th>\n",
       "      <th>Partner</th>\n",
       "      <th>Dependents</th>\n",
       "      <th>tenure</th>\n",
       "      <th>PhoneService</th>\n",
       "      <th>MultipleLines</th>\n",
       "      <th>InternetService</th>\n",
       "      <th>OnlineSecurity</th>\n",
       "      <th>OnlineBackup</th>\n",
       "      <th>DeviceProtection</th>\n",
       "      <th>TechSupport</th>\n",
       "      <th>StreamingTV</th>\n",
       "      <th>StreamingMovies</th>\n",
       "      <th>Contract</th>\n",
       "      <th>PaperlessBilling</th>\n",
       "      <th>PaymentMethod</th>\n",
       "      <th>MonthlyCharges</th>\n",
       "      <th>TotalCharges</th>\n",
       "    </tr>\n",
       "  </thead>\n",
       "  <tbody>\n",
       "    <tr>\n",
       "      <th>6055</th>\n",
       "      <td>0</td>\n",
       "      <td>0</td>\n",
       "      <td>0</td>\n",
       "      <td>0</td>\n",
       "      <td>6</td>\n",
       "      <td>1</td>\n",
       "      <td>1</td>\n",
       "      <td>2</td>\n",
       "      <td>1</td>\n",
       "      <td>1</td>\n",
       "      <td>1</td>\n",
       "      <td>1</td>\n",
       "      <td>1</td>\n",
       "      <td>2</td>\n",
       "      <td>0</td>\n",
       "      <td>1</td>\n",
       "      <td>0</td>\n",
       "      <td>55.0</td>\n",
       "      <td>340.4</td>\n",
       "    </tr>\n",
       "  </tbody>\n",
       "</table>\n",
       "</div>"
      ],
      "text/plain": [
       "      gender  SeniorCitizen  Partner  Dependents  tenure  PhoneService  \\\n",
       "6055       0              0        0           0       6             1   \n",
       "\n",
       "      MultipleLines  InternetService  OnlineSecurity  OnlineBackup  \\\n",
       "6055              1                2               1             1   \n",
       "\n",
       "      DeviceProtection  TechSupport  StreamingTV  StreamingMovies  Contract  \\\n",
       "6055                 1            1            1                2         0   \n",
       "\n",
       "      PaperlessBilling  PaymentMethod  MonthlyCharges  TotalCharges  \n",
       "6055                 1              0            55.0         340.4  "
      ]
     },
     "execution_count": 40,
     "metadata": {},
     "output_type": "execute_result"
    }
   ],
   "source": [
    "x_train.head(1)"
   ]
  },
  {
   "cell_type": "code",
   "execution_count": 41,
   "metadata": {},
   "outputs": [
    {
     "data": {
      "text/plain": [
       "6055    0\n",
       "5831    1\n",
       "5942    1\n",
       "1497    0\n",
       "2729    1\n",
       "Name: Churn, dtype: int64"
      ]
     },
     "execution_count": 41,
     "metadata": {},
     "output_type": "execute_result"
    }
   ],
   "source": [
    "y_train.head(5)"
   ]
  },
  {
   "cell_type": "code",
   "execution_count": 42,
   "metadata": {},
   "outputs": [
    {
     "name": "stderr",
     "output_type": "stream",
     "text": [
      "C:\\Users\\Akhila chowdary\\anaconda3\\lib\\site-packages\\sklearn\\linear_model\\_logistic.py:940: ConvergenceWarning: lbfgs failed to converge (status=1):\n",
      "STOP: TOTAL NO. of ITERATIONS REACHED LIMIT.\n",
      "\n",
      "Increase the number of iterations (max_iter) or scale the data as shown in:\n",
      "    https://scikit-learn.org/stable/modules/preprocessing.html\n",
      "Please also refer to the documentation for alternative solver options:\n",
      "    https://scikit-learn.org/stable/modules/linear_model.html#logistic-regression\n",
      "  extra_warning_msg=_LOGISTIC_SOLVER_CONVERGENCE_MSG)\n"
     ]
    },
    {
     "data": {
      "text/plain": [
       "LogisticRegression(C=1.0, class_weight=None, dual=False, fit_intercept=True,\n",
       "                   intercept_scaling=1, l1_ratio=None, max_iter=100,\n",
       "                   multi_class='auto', n_jobs=None, penalty='l2',\n",
       "                   random_state=None, solver='lbfgs', tol=0.0001, verbose=0,\n",
       "                   warm_start=False)"
      ]
     },
     "execution_count": 42,
     "metadata": {},
     "output_type": "execute_result"
    }
   ],
   "source": [
    "lr = LogisticRegression()\n",
    "\n",
    "lr.fit(x_train,y_train)"
   ]
  },
  {
   "cell_type": "markdown",
   "metadata": {},
   "source": [
    "# Evaluating Metrics"
   ]
  },
  {
   "cell_type": "code",
   "execution_count": 43,
   "metadata": {},
   "outputs": [
    {
     "data": {
      "text/plain": [
       "0.8071672354948806"
      ]
     },
     "execution_count": 43,
     "metadata": {},
     "output_type": "execute_result"
    }
   ],
   "source": [
    "lr.score(x_test,y_test)"
   ]
  },
  {
   "cell_type": "code",
   "execution_count": 44,
   "metadata": {},
   "outputs": [
    {
     "name": "stdout",
     "output_type": "stream",
     "text": [
      "[0.87449093 0.58404908]\n",
      "0.5840490797546012\n"
     ]
    }
   ],
   "source": [
    "print(f1_score(y_test,lr.predict(x_test),average = None))\n",
    "print(f1_score(y_test,lr.predict(x_test)))"
   ]
  },
  {
   "cell_type": "code",
   "execution_count": 45,
   "metadata": {},
   "outputs": [
    {
     "data": {
      "text/plain": [
       "array([[1181,  131],\n",
       "       [ 208,  238]], dtype=int64)"
      ]
     },
     "execution_count": 45,
     "metadata": {},
     "output_type": "execute_result"
    }
   ],
   "source": [
    "confusion_matrix(y_test,lr.predict(x_test))"
   ]
  },
  {
   "cell_type": "markdown",
   "metadata": {},
   "source": [
    "# Balancing Data"
   ]
  },
  {
   "cell_type": "code",
   "execution_count": 46,
   "metadata": {},
   "outputs": [],
   "source": [
    "import random"
   ]
  },
  {
   "cell_type": "code",
   "execution_count": 47,
   "metadata": {},
   "outputs": [
    {
     "name": "stdout",
     "output_type": "stream",
     "text": [
      "1869\n",
      "5163\n",
      "1869\n"
     ]
    }
   ],
   "source": [
    "df_yes = df_clean[df_clean['Churn'] == 1]\n",
    "df_no = df_clean[df_clean['Churn'] == 0]\n",
    "print(len(df_yes))\n",
    "print(len(df_no))\n",
    "df_no_red = df_no[:len(df_yes)]\n",
    "print(len(df_no_red))\n"
   ]
  },
  {
   "cell_type": "code",
   "execution_count": 48,
   "metadata": {},
   "outputs": [],
   "source": [
    "df_bal = pd.concat([df_yes,df_no_red])"
   ]
  },
  {
   "cell_type": "code",
   "execution_count": 49,
   "metadata": {},
   "outputs": [
    {
     "data": {
      "text/plain": [
       "(3738, 21)"
      ]
     },
     "execution_count": 49,
     "metadata": {},
     "output_type": "execute_result"
    }
   ],
   "source": [
    "df_bal.shape"
   ]
  },
  {
   "cell_type": "code",
   "execution_count": 50,
   "metadata": {},
   "outputs": [],
   "source": [
    "df_bal = shuffle(df_bal)"
   ]
  },
  {
   "cell_type": "code",
   "execution_count": 51,
   "metadata": {},
   "outputs": [],
   "source": [
    "features = df_bal.drop(['Churn','customerID'],axis = 1)\n",
    "churn = df_bal.Churn"
   ]
  },
  {
   "cell_type": "code",
   "execution_count": 52,
   "metadata": {},
   "outputs": [],
   "source": [
    "x_train,x_test,y_train,y_test = train_test_split(features,churn,test_size=0.25, random_state=50)"
   ]
  },
  {
   "cell_type": "code",
   "execution_count": 53,
   "metadata": {},
   "outputs": [
    {
     "data": {
      "text/html": [
       "<div>\n",
       "<style scoped>\n",
       "    .dataframe tbody tr th:only-of-type {\n",
       "        vertical-align: middle;\n",
       "    }\n",
       "\n",
       "    .dataframe tbody tr th {\n",
       "        vertical-align: top;\n",
       "    }\n",
       "\n",
       "    .dataframe thead th {\n",
       "        text-align: right;\n",
       "    }\n",
       "</style>\n",
       "<table border=\"1\" class=\"dataframe\">\n",
       "  <thead>\n",
       "    <tr style=\"text-align: right;\">\n",
       "      <th></th>\n",
       "      <th>gender</th>\n",
       "      <th>SeniorCitizen</th>\n",
       "      <th>Partner</th>\n",
       "      <th>Dependents</th>\n",
       "      <th>tenure</th>\n",
       "      <th>PhoneService</th>\n",
       "      <th>MultipleLines</th>\n",
       "      <th>InternetService</th>\n",
       "      <th>OnlineSecurity</th>\n",
       "      <th>OnlineBackup</th>\n",
       "      <th>DeviceProtection</th>\n",
       "      <th>TechSupport</th>\n",
       "      <th>StreamingTV</th>\n",
       "      <th>StreamingMovies</th>\n",
       "      <th>Contract</th>\n",
       "      <th>PaperlessBilling</th>\n",
       "      <th>PaymentMethod</th>\n",
       "      <th>MonthlyCharges</th>\n",
       "      <th>TotalCharges</th>\n",
       "    </tr>\n",
       "  </thead>\n",
       "  <tbody>\n",
       "    <tr>\n",
       "      <th>5585</th>\n",
       "      <td>1</td>\n",
       "      <td>0</td>\n",
       "      <td>0</td>\n",
       "      <td>0</td>\n",
       "      <td>1</td>\n",
       "      <td>1</td>\n",
       "      <td>1</td>\n",
       "      <td>0</td>\n",
       "      <td>0</td>\n",
       "      <td>0</td>\n",
       "      <td>0</td>\n",
       "      <td>0</td>\n",
       "      <td>0</td>\n",
       "      <td>0</td>\n",
       "      <td>0</td>\n",
       "      <td>1</td>\n",
       "      <td>1</td>\n",
       "      <td>19.3</td>\n",
       "      <td>19.3</td>\n",
       "    </tr>\n",
       "  </tbody>\n",
       "</table>\n",
       "</div>"
      ],
      "text/plain": [
       "      gender  SeniorCitizen  Partner  Dependents  tenure  PhoneService  \\\n",
       "5585       1              0        0           0       1             1   \n",
       "\n",
       "      MultipleLines  InternetService  OnlineSecurity  OnlineBackup  \\\n",
       "5585              1                0               0             0   \n",
       "\n",
       "      DeviceProtection  TechSupport  StreamingTV  StreamingMovies  Contract  \\\n",
       "5585                 0            0            0                0         0   \n",
       "\n",
       "      PaperlessBilling  PaymentMethod  MonthlyCharges  TotalCharges  \n",
       "5585                 1              1            19.3          19.3  "
      ]
     },
     "execution_count": 53,
     "metadata": {},
     "output_type": "execute_result"
    }
   ],
   "source": [
    "x_train.head(1)"
   ]
  },
  {
   "cell_type": "code",
   "execution_count": 54,
   "metadata": {},
   "outputs": [
    {
     "data": {
      "text/plain": [
       "5585    1\n",
       "1880    1\n",
       "2349    0\n",
       "2354    0\n",
       "4448    1\n",
       "Name: Churn, dtype: int64"
      ]
     },
     "execution_count": 54,
     "metadata": {},
     "output_type": "execute_result"
    }
   ],
   "source": [
    "y_train.head(5)"
   ]
  },
  {
   "cell_type": "code",
   "execution_count": 55,
   "metadata": {},
   "outputs": [
    {
     "data": {
      "text/plain": [
       "LogisticRegression(C=1.0, class_weight=None, dual=False, fit_intercept=True,\n",
       "                   intercept_scaling=1, l1_ratio=None, max_iter=100,\n",
       "                   multi_class='auto', n_jobs=None, penalty='l2',\n",
       "                   random_state=None, solver='lbfgs', tol=0.0001, verbose=0,\n",
       "                   warm_start=False)"
      ]
     },
     "execution_count": 55,
     "metadata": {},
     "output_type": "execute_result"
    }
   ],
   "source": [
    "lr = LogisticRegression()\n",
    "\n",
    "lr.fit(x_train,y_train)"
   ]
  },
  {
   "cell_type": "code",
   "execution_count": 56,
   "metadata": {},
   "outputs": [
    {
     "data": {
      "text/plain": [
       "0.73475935828877"
      ]
     },
     "execution_count": 56,
     "metadata": {},
     "output_type": "execute_result"
    }
   ],
   "source": [
    "lr.score(x_test,y_test)"
   ]
  },
  {
   "cell_type": "code",
   "execution_count": 57,
   "metadata": {},
   "outputs": [
    {
     "name": "stdout",
     "output_type": "stream",
     "text": [
      "[0.71229698 0.75396825]\n",
      "0.7539682539682538\n"
     ]
    }
   ],
   "source": [
    "print(f1_score(y_test,lr.predict(x_test),average = None))\n",
    "print(f1_score(y_test,lr.predict(x_test)))"
   ]
  },
  {
   "cell_type": "code",
   "execution_count": 58,
   "metadata": {},
   "outputs": [
    {
     "data": {
      "text/plain": [
       "array([[307, 166],\n",
       "       [ 82, 380]], dtype=int64)"
      ]
     },
     "execution_count": 58,
     "metadata": {},
     "output_type": "execute_result"
    }
   ],
   "source": [
    "confusion_matrix(y_test,lr.predict(x_test))"
   ]
  },
  {
   "cell_type": "code",
   "execution_count": 59,
   "metadata": {},
   "outputs": [
    {
     "data": {
      "image/png": "[encoded data removed]",
      "text/plain": [
       "<Figure size 1000x1000 with 1 Axes>"
      ]
     },
     "metadata": {
      "needs_background": "light"
     },
     "output_type": "display_data"
    }
   ],
   "source": [
    "from sklearn.metrics import roc_curve, auc\n",
    "\n",
    "logistic_fpr, logistic_tpr, threshold = roc_curve(y_test,lr.decision_function(x_test))\n",
    "auc_logistic = auc(logistic_fpr, logistic_tpr)\n",
    "plt.figure(figsize=(10, 10), dpi=100)\n",
    "plt.title('ROC curve for the fitted models with balanced data')\n",
    "plt.plot(logistic_fpr, logistic_tpr, marker='.', label='Logistic (auc = %0.3f)' % auc_logistic)\n",
    "plt.show()"
   ]
  },
  {
   "cell_type": "code",
   "execution_count": null,
   "metadata": {},
   "outputs": [],
   "source": []
  }
 ],
 "metadata": {
  "kernelspec": {
   "display_name": "Python 3",
   "language": "python",
   "name": "python3"
  },
  "language_info": {
   "codemirror_mode": {
    "name": "ipython",
    "version": 3
   },
   "file_extension": ".py",
   "mimetype": "text/x-python",
   "name": "python",
   "nbconvert_exporter": "python",
   "pygments_lexer": "ipython3",
   "version": "3.7.6"
  }
 },
 "nbformat": 4,
 "nbformat_minor": 4
}
